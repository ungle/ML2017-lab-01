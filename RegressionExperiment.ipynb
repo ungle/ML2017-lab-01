{
 "cells": [
  {
   "cell_type": "code",
   "execution_count": 3,
   "metadata": {},
   "outputs": [
    {
     "data": {
      "image/png": "[encoded data removed]",
      "text/plain": [
       "<matplotlib.figure.Figure at 0x13a9fd14cf8>"
      ]
     },
     "metadata": {},
     "output_type": "display_data"
    }
   ],
   "source": [
    "# %load linearegression.py\n",
    "#线性回归和梯度下降的实验\n",
    "import matplotlib.pyplot as plt\n",
    "import numpy as np\n",
    "from sklearn.datasets import load_svmlight_file\n",
    "from sklearn.model_selection import train_test_split #引入必要的库 \n",
    "\n",
    "def get_data():  #获取数据，以及对数据进行一些预处理 \n",
    "    data=load_svmlight_file('housing_scale.txt')\n",
    "    x=data[0]\n",
    "    y=data[1] #获取原始数据\n",
    "    x=x.toarray()\n",
    "    m,n=np.shape(x)\n",
    "    adder=np.ones(m)\n",
    "    x=np.column_stack((x,adder)) #给x增加一列，便于后面的线性回归中的常数项的处理\n",
    "    np.random.seed(0)\n",
    "    w=np.random.normal(0,0.5,n+1) #正态分布的w权重初始化\n",
    "    x_train,x_validation,y_train,y_validation=train_test_split(x,y,test_size=0.4,random_state=4) #分割数据集\n",
    "    return x_train,y_train,x_validation,y_validation,w \n",
    "\n",
    "def get_loss(x,y,w): #获取loss函数值，这里是线性回归问题，我们使用均方误差（最小二乘法）作为Loss函数\n",
    "    m,n=np.shape(x)\n",
    "    hypothesis=np.dot(x,w)\n",
    "    loss=np.dot((y-hypothesis).T,y-hypothesis)*0.5\n",
    "    return loss/m\n",
    "\n",
    "def gradientdesent(w,rate,x,y): #批量梯度下降法\n",
    "    hypothesis=np.dot(x,w) #所有样本\n",
    "    k,j=np.shape(x)\n",
    "    x2=x.transpose()\n",
    "    gradient=np.dot(x2,hypothesis-y)/k #梯度的平均值\n",
    "    w=w-rate*gradient #更新权重\n",
    "    return w\n",
    "\n",
    "rate=0.003 #学习率\n",
    "iterations=2500 #迭代次数\n",
    "loss_trains=[] #保存Ltrain\n",
    "loss_validations=[]#保存Lvalidation\n",
    "iteration_times=[i for i in range(0,iterations)] #作为x轴的值\n",
    "x_train,y_train,x_validation,y_validation,w=get_data() #获得数据\n",
    "for i in range(0,iterations): #在迭代中\n",
    "    w=gradientdesent(w,rate,x_train,y_train) #更新权重\n",
    "    loss_train=get_loss(x_train,y_train,w) #获得loss\n",
    "    loss_validation=get_loss(x_validation,y_validation,w)\n",
    "    loss_trains.append(loss_train) #把loss加入列表\n",
    "    loss_validations.append(loss_validation)\n",
    "\n",
    "plt.xlabel(\"Iteration Times\",size=14) #画图\n",
    "plt.ylabel(\"Loss\",size=14)\n",
    "plt.plot(iteration_times,loss_trains,label=\"training set\")\n",
    "plt.plot(iteration_times,loss_validations,label=\"validation set\")\n",
    "plt.legend()\n",
    "plt.show()"
   ]
  },
  {
   "cell_type": "code",
   "execution_count": null,
   "metadata": {},
   "outputs": [],
   "source": []
  }
 ],
 "metadata": {
  "kernelspec": {
   "display_name": "Python 3",
   "language": "python",
   "name": "python3"
  },
  "language_info": {
   "codemirror_mode": {
    "name": "ipython",
    "version": 3
   },
   "file_extension": ".py",
   "mimetype": "text/x-python",
   "name": "python",
   "nbconvert_exporter": "python",
   "pygments_lexer": "ipython3",
   "version": "3.6.2"
  }
 },
 "nbformat": 4,
 "nbformat_minor": 2
}
