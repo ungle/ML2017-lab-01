{
 "cells": [
  {
   "cell_type": "code",
   "execution_count": 3,
   "metadata": {},
   "outputs": [
    {
     "data": {
      "image/png": "[encoded data removed]",
      "text/plain": [
       "<matplotlib.figure.Figure at 0x2d16e50ed68>"
      ]
     },
     "metadata": {},
     "output_type": "display_data"
    }
   ],
   "source": [
    "# %load linearclassification.py\n",
    "#线性分类和梯度下降的实验\n",
    "import matplotlib.pyplot as plt\n",
    "import numpy as np\n",
    "from sklearn.datasets import load_svmlight_file\n",
    "from sklearn.model_selection import train_test_split #引入必要的库 \n",
    "\n",
    "def get_data():  #获取数据，以及对数据进行一些预处理 \n",
    "    data=load_svmlight_file('australian_scale.txt')\n",
    "    x=data[0]\n",
    "    y=data[1] #获取原始数据\n",
    "    x=x.toarray()\n",
    "    m,n=np.shape(x)\n",
    "    adder=np.ones(m)\n",
    "    x=np.column_stack((x,adder)) #给x增加一列，便于后面的线性回归中的常数项的处理\n",
    "    w=np.zeros(n+1) \n",
    "    b=0 #全零初始化\n",
    "    x_train,x_validation,y_train,y_validation=train_test_split(x,y,test_size=0.4,random_state=4) #分割数据集\n",
    "    return x_train,y_train,x_validation,y_validation,w,b \n",
    "\n",
    "def get_loss(x,y,w,b): #获取loss函数值，这里是线性分类问题，我们使用Hinge Loss 来计算\n",
    "    m,n=np.shape(x)\n",
    "    loss=0\n",
    "    C=1/m\n",
    "    threshold=0.01 #阈值\n",
    "    for i in range(0,m):\n",
    "        hypothesis=np.dot(w.T,x[i]) #假设计算出来的结果\n",
    "        if hypothesis>threshold: #大于为正例，反之为负例\n",
    "            hypothesis=+1\n",
    "        else:\n",
    "            hypothesis=-1\n",
    "        hinge=max(0,1-y[i]*hypothesis) #计算单个样本的hingeloss\n",
    "        loss=C*hinge+loss #总的数据集的loss\n",
    "    return loss\n",
    "\n",
    "def gradientdesent(w,rate,x,y): #批量梯度下降法\n",
    "    m,n=np.shape(x)\n",
    "    gradient=w-w\n",
    "    C=0.0\n",
    "    C=1/m\n",
    "    for i in range(0,m): #对所有的样本\n",
    "        condition=1-y[i]*(np.dot(w.T,x[i])+b) #梯度情况的判定\n",
    "        if condition>=0: \n",
    "            gradient=gradient+w.T-np.dot(y.T,x)*C \n",
    "        else:\n",
    "            gradient=gradient+w.T\n",
    "    gradient=(gradient/m) #取平均值\n",
    "    w=w-rate*gradient\n",
    "    return w\n",
    "\n",
    "rate=0.002 #学习率\n",
    "iterations=1000 #迭代次数\n",
    "loss_trains=[] #保存Ltrain\n",
    "loss_validations=[]#保存Lvalidation\n",
    "iteration_times=[i for i in range(0,iterations)] #作为x轴的值\n",
    "x_train,y_train,x_validation,y_validation,w,b=get_data() #获得数据\n",
    "for i in range(0,iterations): #在迭代中\n",
    "    w=gradientdesent(w,rate,x_train,y_train) #更新权重\n",
    "    loss_train=get_loss(x_train,y_train,w,b) #获得loss\n",
    "    loss_validation=get_loss(x_validation,y_validation,w,b)\n",
    "    loss_trains.append(loss_train) #把loss加入列表\n",
    "    loss_validations.append(loss_validation)\n",
    "\n",
    "plt.xlabel(\"Iteration Times\",size=14) #画图\n",
    "plt.ylabel(\"Loss\",size=14)\n",
    "plt.plot(iteration_times,loss_trains,label=\"training set\")\n",
    "plt.plot(iteration_times,loss_validations,label=\"validation set\")\n",
    "plt.legend()\n",
    "plt.show()\n"
   ]
  },
  {
   "cell_type": "code",
   "execution_count": null,
   "metadata": {},
   "outputs": [],
   "source": []
  }
 ],
 "metadata": {
  "kernelspec": {
   "display_name": "Python 3",
   "language": "python",
   "name": "python3"
  },
  "language_info": {
   "codemirror_mode": {
    "name": "ipython",
    "version": 3
   },
   "file_extension": ".py",
   "mimetype": "text/x-python",
   "name": "python",
   "nbconvert_exporter": "python",
   "pygments_lexer": "ipython3",
   "version": "3.6.2"
  }
 },
 "nbformat": 4,
 "nbformat_minor": 2
}
